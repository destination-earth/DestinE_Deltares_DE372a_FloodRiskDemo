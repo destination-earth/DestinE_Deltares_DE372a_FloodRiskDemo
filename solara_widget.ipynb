{
 "cells": [
  {
   "cell_type": "code",
   "execution_count": null,
   "metadata": {},
   "outputs": [],
   "source": [
    "from pathlib import Path\n",
    "\n",
    "import app_main\n",
    "\n",
    "from flood_adapt.api.static import read_database\n",
    "from flood_adapt.misc.config import Settings, UnitSystem"
   ]
  },
  {
   "cell_type": "code",
   "execution_count": null,
   "metadata": {},
   "outputs": [],
   "source": [
    "db_path = Path(r'C:\\Users\\tromp_wm\\fa_databases\\scheveningen')\n",
    "units = UnitSystem(system=\"metric\")\n",
    "\n",
    "settings = Settings(\n",
    "    DATABASE_ROOT=db_path.parent,\n",
    "    DATABASE_NAME=db_path.stem,\n",
    "    SYSTEM_FOLDER=db_path/\"system\",\n",
    "    unit_system=units,\n",
    ")\n",
    "\n",
    "db = read_database(database_path = db_path.parent, site_name=db_path.stem)"
   ]
  },
  {
   "cell_type": "code",
   "execution_count": null,
   "metadata": {},
   "outputs": [],
   "source": [
    "app_main.Page(database=db)"
   ]
  },
  {
   "cell_type": "code",
   "execution_count": null,
   "metadata": {},
   "outputs": [],
   "source": []
  }
 ],
 "metadata": {
  "kernelspec": {
   "display_name": "Python 3 (ipykernel)",
   "language": "python",
   "name": "python3"
  },
  "language_info": {
   "codemirror_mode": {
    "name": "ipython",
    "version": 3
   },
   "file_extension": ".py",
   "mimetype": "text/x-python",
   "name": "python",
   "nbconvert_exporter": "python",
   "pygments_lexer": "ipython3",
   "version": "3.11.0"
  }
 },
 "nbformat": 4,
 "nbformat_minor": 4
}
