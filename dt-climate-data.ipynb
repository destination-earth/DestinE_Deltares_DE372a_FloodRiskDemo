{
 "cells": [
  {
   "cell_type": "markdown",
   "metadata": {},
   "source": [
    "## Preparing DT-Climate date\n",
    "\n",
    "This notebook prepares DT-climate data by downloading it through polytope, interpolating it to a regular lat-lon grid and selecting the area of interest. This notebook assumes prior authentication using the desp-authentication.py script."
   ]
  },
  {
   "cell_type": "code",
   "execution_count": 18,
   "metadata": {},
   "outputs": [],
   "source": [
    "import earthkit.data\n",
    "import earthkit.plots\n",
    "import earthkit.regrid\n",
    "import hydromt # for setting crs to raster"
   ]
  },
  {
   "cell_type": "markdown",
   "metadata": {},
   "source": [
    "These are the bounds of the area of interest in [W, S, E, N]. Also define the filename for the final netcdf data file"
   ]
  },
  {
   "cell_type": "code",
   "execution_count": null,
   "metadata": {},
   "outputs": [],
   "source": [
    "bounds = [-15.0, 43.0, 13.0, 63.0]\n",
    "filename = \"\""
   ]
  },
  {
   "cell_type": "markdown",
   "metadata": {},
   "source": [
    "Details of the download request. Check the DT-Climate documentation for allowed values"
   ]
  },
  {
   "cell_type": "code",
   "execution_count": 5,
   "metadata": {},
   "outputs": [],
   "source": [
    "request = {\n",
    "    \"activity\": \"ScenarioMIP\",\n",
    "    \"class\": \"d1\",\n",
    "    \"dataset\": \"climate-dt\",\n",
    "    \"date\": \"20241102/to/20241104\",\n",
    "    \"experiment\": \"SSP3-7.0\",\n",
    "    \"expver\": \"0001\",\n",
    "    \"generation\": \"1\",\n",
    "    \"levtype\": \"sfc\",\n",
    "    \"model\": \"IFS-NEMO\",\n",
    "    \"param\": \"134/165/166\",\n",
    "    \"realization\": \"1\",\n",
    "    \"resolution\": \"standard\",\n",
    "    \"stream\": \"clte\",\n",
    "    \"time\": '0000/0100/0200/0300/0400/0500/0600/0700/0800/0900/1000/1100/1200/1300/1400/1500/1600/1700/1800/1900/2000/2100/2200/2300',\n",
    "    \"type\": \"fc\"\n",
    "}"
   ]
  },
  {
   "cell_type": "markdown",
   "metadata": {},
   "source": [
    "Download data into memory"
   ]
  },
  {
   "cell_type": "code",
   "execution_count": 6,
   "metadata": {},
   "outputs": [
    {
     "name": "stderr",
     "output_type": "stream",
     "text": [
      "2025-04-02 10:46:46 - INFO - Key read from C:\\Users\\tromp_wm\\.polytopeapirc\n",
      "2025-04-02 10:46:46 - INFO - Sending request...\n",
      "{'request': 'activity: ScenarioMIP\\n'\n",
      "            'class: d1\\n'\n",
      "            'dataset: climate-dt\\n'\n",
      "            'date: 20241102/to/20241104\\n'\n",
      "            'experiment: SSP3-7.0\\n'\n",
      "            \"expver: '0001'\\n\"\n",
      "            \"generation: '1'\\n\"\n",
      "            'levtype: sfc\\n'\n",
      "            'model: IFS-NEMO\\n'\n",
      "            'param: 134/165/166\\n'\n",
      "            \"realization: '1'\\n\"\n",
      "            'resolution: standard\\n'\n",
      "            'stream: clte\\n'\n",
      "            'time: '\n",
      "            '0000/0100/0200/0300/0400/0500/0600/0700/0800/0900/1000/1100/1200/1300/1400/1500/1600/1700/1800/1900/2000/2100/2200/2300\\n'\n",
      "            'type: fc\\n',\n",
      " 'verb': 'retrieve'}\n",
      "2025-04-02 10:46:46 - INFO - Polytope user key found in session cache for user tromp_wm\n"
     ]
    },
    {
     "name": "stderr",
     "output_type": "stream",
     "text": [
      "2025-04-02 10:46:46 - INFO - Request accepted. Please poll ./8d5669d8-ad58-42b2-b8ac-63db4df72a0d for status\n",
      "2025-04-02 10:46:46 - INFO - Polytope user key found in session cache for user tromp_wm\n",
      "2025-04-02 10:46:46 - INFO - Checking request status (./8d5669d8-ad58-42b2-b8ac-63db4df72a0d)...\n",
      "2025-04-02 10:46:46 - INFO - The current status of the request is 'processing'\n",
      "2025-04-02 10:46:51 - INFO - The current status of the request is 'processed'\n"
     ]
    },
    {
     "data": {
      "application/vnd.jupyter.widget-view+json": {
       "model_id": "3db2ab7b126d48eb92694db3f18c6a1c",
       "version_major": 2,
       "version_minor": 0
      },
      "text/plain": [
       "8d5669d8-ad58-42b2-b8ac-63db4df72a0d.grib:   0%|          | 0.00/98.8M [00:00<?, ?B/s]"
      ]
     },
     "metadata": {},
     "output_type": "display_data"
    }
   ],
   "source": [
    "data = earthkit.data.from_source(\n",
    "    \"polytope\",\n",
    "    \"destination-earth\",\n",
    "    request,\n",
    "    address=\"polytope.lumi.apps.dte.destination-earth.eu\",\n",
    "    stream=False\n",
    ")"
   ]
  },
  {
   "cell_type": "code",
   "execution_count": 7,
   "metadata": {},
   "outputs": [
    {
     "data": {
      "text/html": [
       "<div>\n",
       "<style scoped>\n",
       "    .dataframe tbody tr th:only-of-type {\n",
       "        vertical-align: middle;\n",
       "    }\n",
       "\n",
       "    .dataframe tbody tr th {\n",
       "        vertical-align: top;\n",
       "    }\n",
       "\n",
       "    .dataframe thead th {\n",
       "        text-align: right;\n",
       "    }\n",
       "</style>\n",
       "<table border=\"1\" class=\"dataframe\">\n",
       "  <thead>\n",
       "    <tr style=\"text-align: right;\">\n",
       "      <th></th>\n",
       "      <th>centre</th>\n",
       "      <th>shortName</th>\n",
       "      <th>typeOfLevel</th>\n",
       "      <th>level</th>\n",
       "      <th>dataDate</th>\n",
       "      <th>dataTime</th>\n",
       "      <th>stepRange</th>\n",
       "      <th>dataType</th>\n",
       "      <th>number</th>\n",
       "      <th>gridType</th>\n",
       "    </tr>\n",
       "  </thead>\n",
       "  <tbody>\n",
       "    <tr>\n",
       "      <th>0</th>\n",
       "      <td>ecmf</td>\n",
       "      <td>sp</td>\n",
       "      <td>surface</td>\n",
       "      <td>0</td>\n",
       "      <td>20241102</td>\n",
       "      <td>0</td>\n",
       "      <td>0</td>\n",
       "      <td>fc</td>\n",
       "      <td>None</td>\n",
       "      <td>healpix</td>\n",
       "    </tr>\n",
       "    <tr>\n",
       "      <th>1</th>\n",
       "      <td>ecmf</td>\n",
       "      <td>10u</td>\n",
       "      <td>heightAboveGround</td>\n",
       "      <td>10</td>\n",
       "      <td>20241102</td>\n",
       "      <td>0</td>\n",
       "      <td>0</td>\n",
       "      <td>fc</td>\n",
       "      <td>None</td>\n",
       "      <td>healpix</td>\n",
       "    </tr>\n",
       "    <tr>\n",
       "      <th>2</th>\n",
       "      <td>ecmf</td>\n",
       "      <td>10v</td>\n",
       "      <td>heightAboveGround</td>\n",
       "      <td>10</td>\n",
       "      <td>20241102</td>\n",
       "      <td>0</td>\n",
       "      <td>0</td>\n",
       "      <td>fc</td>\n",
       "      <td>None</td>\n",
       "      <td>healpix</td>\n",
       "    </tr>\n",
       "    <tr>\n",
       "      <th>3</th>\n",
       "      <td>ecmf</td>\n",
       "      <td>sp</td>\n",
       "      <td>surface</td>\n",
       "      <td>0</td>\n",
       "      <td>20241102</td>\n",
       "      <td>100</td>\n",
       "      <td>0</td>\n",
       "      <td>fc</td>\n",
       "      <td>None</td>\n",
       "      <td>healpix</td>\n",
       "    </tr>\n",
       "    <tr>\n",
       "      <th>4</th>\n",
       "      <td>ecmf</td>\n",
       "      <td>10u</td>\n",
       "      <td>heightAboveGround</td>\n",
       "      <td>10</td>\n",
       "      <td>20241102</td>\n",
       "      <td>100</td>\n",
       "      <td>0</td>\n",
       "      <td>fc</td>\n",
       "      <td>None</td>\n",
       "      <td>healpix</td>\n",
       "    </tr>\n",
       "    <tr>\n",
       "      <th>...</th>\n",
       "      <td>...</td>\n",
       "      <td>...</td>\n",
       "      <td>...</td>\n",
       "      <td>...</td>\n",
       "      <td>...</td>\n",
       "      <td>...</td>\n",
       "      <td>...</td>\n",
       "      <td>...</td>\n",
       "      <td>...</td>\n",
       "      <td>...</td>\n",
       "    </tr>\n",
       "    <tr>\n",
       "      <th>211</th>\n",
       "      <td>ecmf</td>\n",
       "      <td>10u</td>\n",
       "      <td>heightAboveGround</td>\n",
       "      <td>10</td>\n",
       "      <td>20241104</td>\n",
       "      <td>2200</td>\n",
       "      <td>0</td>\n",
       "      <td>fc</td>\n",
       "      <td>None</td>\n",
       "      <td>healpix</td>\n",
       "    </tr>\n",
       "    <tr>\n",
       "      <th>212</th>\n",
       "      <td>ecmf</td>\n",
       "      <td>10v</td>\n",
       "      <td>heightAboveGround</td>\n",
       "      <td>10</td>\n",
       "      <td>20241104</td>\n",
       "      <td>2200</td>\n",
       "      <td>0</td>\n",
       "      <td>fc</td>\n",
       "      <td>None</td>\n",
       "      <td>healpix</td>\n",
       "    </tr>\n",
       "    <tr>\n",
       "      <th>213</th>\n",
       "      <td>ecmf</td>\n",
       "      <td>sp</td>\n",
       "      <td>surface</td>\n",
       "      <td>0</td>\n",
       "      <td>20241104</td>\n",
       "      <td>2300</td>\n",
       "      <td>0</td>\n",
       "      <td>fc</td>\n",
       "      <td>None</td>\n",
       "      <td>healpix</td>\n",
       "    </tr>\n",
       "    <tr>\n",
       "      <th>214</th>\n",
       "      <td>ecmf</td>\n",
       "      <td>10u</td>\n",
       "      <td>heightAboveGround</td>\n",
       "      <td>10</td>\n",
       "      <td>20241104</td>\n",
       "      <td>2300</td>\n",
       "      <td>0</td>\n",
       "      <td>fc</td>\n",
       "      <td>None</td>\n",
       "      <td>healpix</td>\n",
       "    </tr>\n",
       "    <tr>\n",
       "      <th>215</th>\n",
       "      <td>ecmf</td>\n",
       "      <td>10v</td>\n",
       "      <td>heightAboveGround</td>\n",
       "      <td>10</td>\n",
       "      <td>20241104</td>\n",
       "      <td>2300</td>\n",
       "      <td>0</td>\n",
       "      <td>fc</td>\n",
       "      <td>None</td>\n",
       "      <td>healpix</td>\n",
       "    </tr>\n",
       "  </tbody>\n",
       "</table>\n",
       "<p>216 rows × 10 columns</p>\n",
       "</div>"
      ],
      "text/plain": [
       "    centre shortName        typeOfLevel  level  dataDate  dataTime stepRange  \\\n",
       "0     ecmf        sp            surface      0  20241102         0         0   \n",
       "1     ecmf       10u  heightAboveGround     10  20241102         0         0   \n",
       "2     ecmf       10v  heightAboveGround     10  20241102         0         0   \n",
       "3     ecmf        sp            surface      0  20241102       100         0   \n",
       "4     ecmf       10u  heightAboveGround     10  20241102       100         0   \n",
       "..     ...       ...                ...    ...       ...       ...       ...   \n",
       "211   ecmf       10u  heightAboveGround     10  20241104      2200         0   \n",
       "212   ecmf       10v  heightAboveGround     10  20241104      2200         0   \n",
       "213   ecmf        sp            surface      0  20241104      2300         0   \n",
       "214   ecmf       10u  heightAboveGround     10  20241104      2300         0   \n",
       "215   ecmf       10v  heightAboveGround     10  20241104      2300         0   \n",
       "\n",
       "    dataType number gridType  \n",
       "0         fc   None  healpix  \n",
       "1         fc   None  healpix  \n",
       "2         fc   None  healpix  \n",
       "3         fc   None  healpix  \n",
       "4         fc   None  healpix  \n",
       "..       ...    ...      ...  \n",
       "211       fc   None  healpix  \n",
       "212       fc   None  healpix  \n",
       "213       fc   None  healpix  \n",
       "214       fc   None  healpix  \n",
       "215       fc   None  healpix  \n",
       "\n",
       "[216 rows x 10 columns]"
      ]
     },
     "execution_count": 7,
     "metadata": {},
     "output_type": "execute_result"
    }
   ],
   "source": [
    "data.ls()"
   ]
  },
  {
   "cell_type": "markdown",
   "metadata": {},
   "source": [
    "Interpolate data to a regular lat-lon grid of 0.1deg resolution"
   ]
  },
  {
   "cell_type": "code",
   "execution_count": 8,
   "metadata": {},
   "outputs": [
    {
     "data": {
      "application/vnd.jupyter.widget-view+json": {
       "model_id": "12acd60602ee45fc8344d449271a57a8",
       "version_major": 2,
       "version_minor": 0
      },
      "text/plain": [
       "ce05761e06ddc639c16cad8e47ca64ded634218b6c6bca2bc72c14e472d38825.npz:   0%|          | 0.00/84.5M [00:00<?, ?B…"
      ]
     },
     "metadata": {},
     "output_type": "display_data"
    }
   ],
   "source": [
    "data_latlon = earthkit.regrid.interpolate(data, out_grid={\"grid\": [0.1, 0.1]}, method=\"linear\")"
   ]
  },
  {
   "cell_type": "markdown",
   "metadata": {},
   "source": [
    "Turn data into xarray object for further processing"
   ]
  },
  {
   "cell_type": "code",
   "execution_count": 41,
   "metadata": {},
   "outputs": [],
   "source": [
    "ds = data_latlon.to_xarray(engine='cfgrib', xarray_open_dataset_kwargs={\"chunks\": {\"time\": 1}}).squeeze()"
   ]
  },
  {
   "cell_type": "markdown",
   "metadata": {},
   "source": [
    "Shift longitude values and rename variables to names recognized by HydroMT/FloodAdapt"
   ]
  },
  {
   "cell_type": "code",
   "execution_count": 43,
   "metadata": {},
   "outputs": [],
   "source": [
    "ds = ds.assign_coords(\n",
    "    {\"longitude\": ((ds.longitude+180)%360)-180}\n",
    ")\n",
    "\n",
    "ds = ds.sortby(\"longitude\")\n",
    "ds = ds.sortby(\"latitude\")\n",
    "\n",
    "ds = ds.rename(\n",
    "    {\n",
    "        \"longitude\": \"x\",\n",
    "        \"latitude\": \"y\",\n",
    "        \"sp\": \"press_msl\",\n",
    "        \"u10\": \"wind10_u\",\n",
    "        \"v10\": \"wind10_v\"\n",
    "    }\n",
    ")"
   ]
  },
  {
   "cell_type": "markdown",
   "metadata": {},
   "source": [
    "Define a crs for the data"
   ]
  },
  {
   "cell_type": "code",
   "execution_count": 44,
   "metadata": {},
   "outputs": [
    {
     "data": {
      "text/plain": [
       "<Geographic 2D CRS: EPSG:4326>\n",
       "Name: WGS 84\n",
       "Axis Info [ellipsoidal]:\n",
       "- Lat[north]: Geodetic latitude (degree)\n",
       "- Lon[east]: Geodetic longitude (degree)\n",
       "Area of Use:\n",
       "- name: World.\n",
       "- bounds: (-180.0, -90.0, 180.0, 90.0)\n",
       "Datum: World Geodetic System 1984 ensemble\n",
       "- Ellipsoid: WGS 84\n",
       "- Prime Meridian: Greenwich"
      ]
     },
     "execution_count": 44,
     "metadata": {},
     "output_type": "execute_result"
    }
   ],
   "source": [
    "ds.raster.set_crs(4326)"
   ]
  },
  {
   "cell_type": "markdown",
   "metadata": {},
   "source": [
    "Select the area of interest"
   ]
  },
  {
   "cell_type": "code",
   "execution_count": 45,
   "metadata": {},
   "outputs": [],
   "source": [
    "ds = ds.sel(\n",
    "    x = slice(bounds[0], bounds[2]),\n",
    "    y = slice(bounds[1], bounds[3])\n",
    ")"
   ]
  },
  {
   "cell_type": "markdown",
   "metadata": {},
   "source": [
    "Save data to netcdf"
   ]
  },
  {
   "cell_type": "code",
   "execution_count": null,
   "metadata": {},
   "outputs": [],
   "source": [
    "ds.to_netcdf(filename)"
   ]
  }
 ],
 "metadata": {
  "kernelspec": {
   "display_name": "de372",
   "language": "python",
   "name": "python3"
  },
  "language_info": {
   "codemirror_mode": {
    "name": "ipython",
    "version": 3
   },
   "file_extension": ".py",
   "mimetype": "text/x-python",
   "name": "python",
   "nbconvert_exporter": "python",
   "pygments_lexer": "ipython3",
   "version": "3.11.0"
  }
 },
 "nbformat": 4,
 "nbformat_minor": 2
}
